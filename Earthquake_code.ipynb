{
 "cells": [
  {
   "cell_type": "code",
   "execution_count": 9,
   "metadata": {},
   "outputs": [
    {
     "data": {
      "application/vnd.jupyter.widget-view+json": {
       "model_id": "6f1f51d3059a4f559a5729f23bb391a6",
       "version_major": 2,
       "version_minor": 0
      },
      "text/plain": [
       "HBox(children=(IntProgress(value=0, max=500), HTML(value='')))"
      ]
     },
     "metadata": {},
     "output_type": "display_data"
    },
    {
     "name": "stdout",
     "output_type": "stream",
     "text": [
      "\n",
      "Mean Absolute Error in CV-500:  1.9130489380359492\n"
     ]
    }
   ],
   "source": [
    "import pandas as pd\n",
    "from sklearn.model_selection import cross_val_score\n",
    "from xgboost import XGBRegressor # xgboost version 0.80\n",
    "from sklearn.metrics import mean_absolute_error\n",
    "from sklearn.utils import shuffle\n",
    "import numpy as np\n",
    "from tqdm import tqdm_notebook as tqdm\n",
    "\n",
    "# Loading database of features\n",
    "data_for_modelling = pd.read_csv('Earthquake_features.csv')\n",
    "\n",
    "# Difining sets of features\n",
    "\n",
    "# AD only\n",
    "AD = ['mean_AD', 'mode_count_AD', '1_AD', '75_AD'] \n",
    "\n",
    "# AD+AC_first\n",
    "AD_plus_AC_first = ['mean_AD', 'mode_count_AD', '1_AD', '50_AD', '75_AD',\n",
    "                    '(standard_deviation)/(mean)_AC_first', '25_AC_first', '95_AC_first']\n",
    "\n",
    "# AD+AC_first+AC_ampl\n",
    "AD_plus_AC_first_plus_AC_ampl = ['mean_AD', 'mode_count_AD', '5_AD', '75_AD', '90_AD',\n",
    "                                 'mode_count_AC_first', '25_AC_first', '95_AC_first',\n",
    "                                 'standard_deviation_AC_ampl', 'mode_count_AC_ampl']\n",
    "\n",
    "# Assigning features\n",
    "\n",
    "features = AD_plus_AC_first_plus_AC_ampl # Features to use in modelling\n",
    "                                         # features = AD for modelling with AD only;\n",
    "                                         # features = AD_plus_AC_first for modelling with\n",
    "                                         # AD+AC_first;\n",
    "                                         # features = AD_plus_AC_first_plus_AC_ampl \n",
    "                                         # for modelling with AD+AC_first+AC_ampl\n",
    "\n",
    "\n",
    "model = XGBRegressor() # XGBoost algorithm is used\n",
    "\n",
    "errors = []\n",
    "\n",
    "# Midelling in 500 cycles. Number of cycles can be changed. \n",
    "\n",
    "for j in tqdm(range(1,501)) : # range(1,501) for 500 repetitions. \n",
    "                              # Change \"501\" to \"N+1\" to make N repetitions \n",
    "    \n",
    "    data_for_modelling = shuffle(data_for_modelling)\n",
    "    \n",
    "    y = data_for_modelling['time_to_failure']\n",
    "    X = data_for_modelling[features]\n",
    "        \n",
    "    scores = cross_val_score(model, X, y, scoring='neg_mean_absolute_error', cv=6)\n",
    "    scores=scores*-1\n",
    "    scores = scores.tolist()\n",
    "    errors = errors+scores\n",
    "\n",
    "print(\"Mean Absolute Error in CV-500: \", np.mean(errors))\n",
    "\n",
    "# Our results\n",
    "# features = AD:                            Mean Absolute Error in CV-500:  1.9349185324332674\n",
    "#                                           Mean Absolute Error in CV-50:   1.9351660263033883\n",
    "\n",
    "\n",
    "# features = AD_plus_AC_first:              Mean Absolute Error in CV-500:  1.9211131834087776\n",
    "#                                           Mean Absolute Error in CV-50:   1.9216325757323298\n",
    "\n",
    "\n",
    "\n",
    "# features = AD_plus_AC_first_plus_AC_ampl: Mean Absolute Error in CV-500:  1.912960794866414\n",
    "#                                           Mean Absolute Error in CV-50:   1.913621622830518\n",
    "\n",
    "\n"
   ]
  }
 ],
 "metadata": {
  "kernelspec": {
   "display_name": "Python 3",
   "language": "python",
   "name": "python3"
  },
  "language_info": {
   "codemirror_mode": {
    "name": "ipython",
    "version": 3
   },
   "file_extension": ".py",
   "mimetype": "text/x-python",
   "name": "python",
   "nbconvert_exporter": "python",
   "pygments_lexer": "ipython3",
   "version": "3.7.3"
  }
 },
 "nbformat": 4,
 "nbformat_minor": 2
}
